{
 "cells": [
  {
   "cell_type": "markdown",
   "metadata": {},
   "source": []
  },
  {
   "cell_type": "code",
   "execution_count": 35,
   "metadata": {},
   "outputs": [],
   "source": [
    "import pandas as pd\n",
    "import numpy as np\n",
    "from sklearn.utils import shuffle\n"
   ]
  },
  {
   "cell_type": "code",
   "execution_count": 10,
   "metadata": {},
   "outputs": [
    {
     "name": "stdout",
     "output_type": "stream",
     "text": [
      "Requirement already satisfied: pillow in /Users/user/opt/anaconda3/envs/learn-env/lib/python3.8/site-packages (7.2.0)\n"
     ]
    }
   ],
   "source": [
    "!pip install pillow"
   ]
  },
  {
   "cell_type": "code",
   "execution_count": 11,
   "metadata": {},
   "outputs": [],
   "source": [
    "# importing the neccesarry data loading libraries\n",
    "import numpy as np\n",
    "import pandas as pd\n",
    "import os, shutil\n",
    "import cv2 "
   ]
  },
  {
   "cell_type": "code",
   "execution_count": 12,
   "metadata": {},
   "outputs": [
    {
     "data": {
      "text/plain": [
       "'/Users/user/Documents/trial/IMAGE CLASS/image-classsification-intel'"
      ]
     },
     "execution_count": 12,
     "metadata": {},
     "output_type": "execute_result"
    }
   ],
   "source": [
    "#getting the current working directory\n",
    "cwd= os.getcwd()\n",
    "cwd"
   ]
  },
  {
   "cell_type": "code",
   "execution_count": 30,
   "metadata": {},
   "outputs": [
    {
     "name": "stdout",
     "output_type": "stream",
     "text": [
      "['forest', 'buildings', '.DS_Store', 'glacier', 'street', 'mountain', 'sea']\n"
     ]
    }
   ],
   "source": [
    "# getting the items in the directory\n",
    "dirs= os.listdir('data/seg_train')\n",
    "print(dirs)"
   ]
  },
  {
   "cell_type": "code",
   "execution_count": 14,
   "metadata": {},
   "outputs": [
    {
     "data": {
      "text/plain": [
       "['forest', 'buildings', '.DS_Store', 'glacier', 'street', 'mountain', 'sea']"
      ]
     },
     "execution_count": 14,
     "metadata": {},
     "output_type": "execute_result"
    }
   ],
   "source": [
    "# listing the items in the test data\n",
    "os.listdir('data/seg_test')"
   ]
  },
  {
   "cell_type": "code",
   "execution_count": 15,
   "metadata": {},
   "outputs": [
    {
     "data": {
      "text/plain": [
       "['forest', 'buildings', '.DS_Store', 'glacier', 'street', 'mountain', 'sea']"
      ]
     },
     "execution_count": 15,
     "metadata": {},
     "output_type": "execute_result"
    }
   ],
   "source": [
    "# listing the items in the train data\n",
    "\n",
    "os.listdir('data/seg_train')"
   ]
  },
  {
   "cell_type": "code",
   "execution_count": 16,
   "metadata": {},
   "outputs": [
    {
     "data": {
      "text/plain": [
       "['63.jpg',\n",
       " '24084.jpg',\n",
       " '13628.jpg',\n",
       " '3578.jpg',\n",
       " '10321.jpg',\n",
       " '10447.jpg',\n",
       " '12250.jpg',\n",
       " '1409.jpg',\n",
       " '23099.jpg',\n",
       " '9041.jpg',\n",
       " '11995.jpg',\n",
       " '4203.jpg',\n",
       " '9727.jpg',\n",
       " '77.jpg',\n",
       " '24090.jpg',\n",
       " '837.jpg',\n",
       " '3544.jpg',\n",
       " '13614.jpg',\n",
       " '7044.jpg',\n",
       " '17300.jpg']"
      ]
     },
     "execution_count": 16,
     "metadata": {},
     "output_type": "execute_result"
    }
   ],
   "source": [
    "# listing the items in the predictions data, getting the first 20 items\n",
    "\n",
    "os.listdir('data/seg_pred/')[:20]"
   ]
  },
  {
   "cell_type": "code",
   "execution_count": 17,
   "metadata": {},
   "outputs": [],
   "source": [
    "# a function to get the working directory and find the number of files in it\n",
    "def len_data(filename):\n",
    "    buildings_data = os.listdir(filename+'/buildings')\n",
    "    forest_data = os.listdir(filename+'/forest')\n",
    "    glacier_data = os.listdir(filename+'/glacier')\n",
    "    mountain_data = os.listdir(filename+'/mountain')\n",
    "    sea_data = os.listdir(filename+'/sea')\n",
    "    street_data = os.listdir(filename+'/street')\n",
    "\n",
    "    value = []\n",
    "    for data in [buildings_data,forest_data,glacier_data,mountain_data,sea_data,street_data]:\n",
    "        value.append(len(data))\n",
    "        \n",
    "    return sum(value)\n"
   ]
  },
  {
   "cell_type": "code",
   "execution_count": 18,
   "metadata": {},
   "outputs": [
    {
     "name": "stdout",
     "output_type": "stream",
     "text": [
      "Total Images in Training set : 14034\n"
     ]
    }
   ],
   "source": [
    "filename = 'data/seg_train/'\n",
    "print('Total Images in Training set : ' + str(len_data(filename)))"
   ]
  },
  {
   "cell_type": "code",
   "execution_count": 19,
   "metadata": {},
   "outputs": [
    {
     "name": "stdout",
     "output_type": "stream",
     "text": [
      "Total Images in Training set : 3000\n"
     ]
    }
   ],
   "source": [
    "filename = 'data/seg_test/'\n",
    "print('Total Images in Training set : ' + str(len_data(filename)))"
   ]
  },
  {
   "cell_type": "code",
   "execution_count": 20,
   "metadata": {},
   "outputs": [],
   "source": [
    "import matplotlib.pyplot as plt\n",
    "import matplotlib.image as mpimg\n",
    "import seaborn as sns\n",
    "%matplotlib inline"
   ]
  },
  {
   "cell_type": "code",
   "execution_count": 21,
   "metadata": {},
   "outputs": [],
   "source": [
    "def plot_data(filename):\n",
    "    buildings_data = os.listdir(filename+'/buildings')\n",
    "    forest_data = os.listdir(filename+'/forest')\n",
    "    glacier_data = os.listdir(filename+'/glacier')\n",
    "    mountain_data = os.listdir(filename+'/mountain')\n",
    "    sea_data = os.listdir(filename+'/sea')\n",
    "    street_data = os.listdir(filename+'/street')\n",
    "\n",
    "    value = []\n",
    "    for data in [buildings_data,forest_data,glacier_data,mountain_data,sea_data,street_data]:\n",
    "        value.append(len(data))\n",
    "    \n",
    "    sns.barplot(['Buildings','Forest','Glacier','Mountain','Sea','Street'],value, palette = 'plasma')\n",
    "    plt.title(filename.split('/')[1])\n"
   ]
  },
  {
   "cell_type": "code",
   "execution_count": 22,
   "metadata": {},
   "outputs": [
    {
     "name": "stderr",
     "output_type": "stream",
     "text": [
      "/Users/user/opt/anaconda3/envs/learn-env/lib/python3.8/site-packages/seaborn/_decorators.py:36: FutureWarning: Pass the following variables as keyword args: x, y. From version 0.12, the only valid positional argument will be `data`, and passing other arguments without an explicit keyword will result in an error or misinterpretation.\n",
      "  warnings.warn(\n"
     ]
    },
    {
     "data": {
      "image/png": "[encoded data removed]",
      "text/plain": [
       "<Figure size 432x288 with 1 Axes>"
      ]
     },
     "metadata": {
      "needs_background": "light"
     },
     "output_type": "display_data"
    }
   ],
   "source": [
    "filename = 'data/seg_train/'\n",
    "plot_data(filename)"
   ]
  },
  {
   "cell_type": "code",
   "execution_count": 23,
   "metadata": {},
   "outputs": [
    {
     "name": "stderr",
     "output_type": "stream",
     "text": [
      "/Users/user/opt/anaconda3/envs/learn-env/lib/python3.8/site-packages/seaborn/_decorators.py:36: FutureWarning: Pass the following variables as keyword args: x, y. From version 0.12, the only valid positional argument will be `data`, and passing other arguments without an explicit keyword will result in an error or misinterpretation.\n",
      "  warnings.warn(\n"
     ]
    },
    {
     "data": {
      "image/png": "[encoded data removed]",
      "text/plain": [
       "<Figure size 432x288 with 1 Axes>"
      ]
     },
     "metadata": {
      "needs_background": "light"
     },
     "output_type": "display_data"
    }
   ],
   "source": [
    "filename = 'data/seg_test/'\n",
    "plot_data(filename)\n"
   ]
  },
  {
   "cell_type": "code",
   "execution_count": 24,
   "metadata": {},
   "outputs": [],
   "source": [
    "import cv2\n",
    "import os\n",
    "\n",
    "def load_images_from_folder(folder):\n",
    "    images = []\n",
    "    \n",
    "    folder1 = folder + '\\\\buildings'\n",
    "    for filename in os.listdir(folder1)[:5]:\n",
    "        img = cv2.imread(os.path.join(os.getcwd(),folder1,filename))\n",
    "        if img is not None:\n",
    "            images.append(img)\n",
    "            \n",
    "    folder2 = folder + '\\\\forest'\n",
    "    for filename in os.listdir(folder2)[:5]:\n",
    "        img = cv2.imread(os.path.join(os.getcwd(),folder2,filename))\n",
    "        if img is not None:\n",
    "            images.append(img)\n",
    "    \n",
    "    folder3 = folder + '\\\\glacier'\n",
    "    for filename in os.listdir(folder3)[:5]:\n",
    "        img = cv2.imread(os.path.join(os.getcwd(),folder3,filename))\n",
    "        if img is not None:\n",
    "            images.append(img)\n",
    "            \n",
    "    folder4 = folder + '\\\\mountain'\n",
    "    for filename in os.listdir(folder4)[:5]:\n",
    "        img = cv2.imread(os.path.join(os.getcwd(),folder4,filename))\n",
    "        if img is not None:\n",
    "            images.append(img)\n",
    "            \n",
    "    folder5 = folder + '\\\\sea'\n",
    "    for filename in os.listdir(folder5)[:5]:\n",
    "        img = cv2.imread(os.path.join(os.getcwd(),folder5,filename))\n",
    "        if img is not None:\n",
    "            images.append(img)\n",
    "    \n",
    "    folder6 = folder + '\\\\street'\n",
    "    for filename in os.listdir(folder6)[:5]:\n",
    "        img = cv2.imread(os.path.join(os.getcwd(),folder6,filename))\n",
    "        if img is not None:\n",
    "            images.append(img)\n",
    "    return images"
   ]
  },
  {
   "cell_type": "code",
   "execution_count": 40,
   "metadata": {},
   "outputs": [
    {
     "ename": "FileNotFoundError",
     "evalue": "[Errno 2] No such file or directory: 'seg_train\\\\buildings'",
     "output_type": "error",
     "traceback": [
      "\u001b[0;31m---------------------------------------------------------------------------\u001b[0m",
      "\u001b[0;31mFileNotFoundError\u001b[0m                         Traceback (most recent call last)",
      "\u001b[0;32m<ipython-input-40-21ef586bc3d1>\u001b[0m in \u001b[0;36m<module>\u001b[0;34m\u001b[0m\n\u001b[0;32m----> 1\u001b[0;31m \u001b[0mimages\u001b[0m \u001b[0;34m=\u001b[0m \u001b[0mload_images_from_folder\u001b[0m\u001b[0;34m(\u001b[0m\u001b[0;34m'seg_train'\u001b[0m\u001b[0;34m)\u001b[0m\u001b[0;34m\u001b[0m\u001b[0;34m\u001b[0m\u001b[0m\n\u001b[0m",
      "\u001b[0;32m<ipython-input-24-17ea75d8e4c0>\u001b[0m in \u001b[0;36mload_images_from_folder\u001b[0;34m(folder)\u001b[0m\n\u001b[1;32m      6\u001b[0m \u001b[0;34m\u001b[0m\u001b[0m\n\u001b[1;32m      7\u001b[0m     \u001b[0mfolder1\u001b[0m \u001b[0;34m=\u001b[0m \u001b[0mfolder\u001b[0m \u001b[0;34m+\u001b[0m \u001b[0;34m'\\\\buildings'\u001b[0m\u001b[0;34m\u001b[0m\u001b[0;34m\u001b[0m\u001b[0m\n\u001b[0;32m----> 8\u001b[0;31m     \u001b[0;32mfor\u001b[0m \u001b[0mfilename\u001b[0m \u001b[0;32min\u001b[0m \u001b[0mos\u001b[0m\u001b[0;34m.\u001b[0m\u001b[0mlistdir\u001b[0m\u001b[0;34m(\u001b[0m\u001b[0mfolder1\u001b[0m\u001b[0;34m)\u001b[0m\u001b[0;34m[\u001b[0m\u001b[0;34m:\u001b[0m\u001b[0;36m5\u001b[0m\u001b[0;34m]\u001b[0m\u001b[0;34m:\u001b[0m\u001b[0;34m\u001b[0m\u001b[0;34m\u001b[0m\u001b[0m\n\u001b[0m\u001b[1;32m      9\u001b[0m         \u001b[0mimg\u001b[0m \u001b[0;34m=\u001b[0m \u001b[0mcv2\u001b[0m\u001b[0;34m.\u001b[0m\u001b[0mimread\u001b[0m\u001b[0;34m(\u001b[0m\u001b[0mos\u001b[0m\u001b[0;34m.\u001b[0m\u001b[0mpath\u001b[0m\u001b[0;34m.\u001b[0m\u001b[0mjoin\u001b[0m\u001b[0;34m(\u001b[0m\u001b[0mos\u001b[0m\u001b[0;34m.\u001b[0m\u001b[0mgetcwd\u001b[0m\u001b[0;34m(\u001b[0m\u001b[0;34m)\u001b[0m\u001b[0;34m,\u001b[0m\u001b[0mfolder1\u001b[0m\u001b[0;34m,\u001b[0m\u001b[0mfilename\u001b[0m\u001b[0;34m)\u001b[0m\u001b[0;34m)\u001b[0m\u001b[0;34m\u001b[0m\u001b[0;34m\u001b[0m\u001b[0m\n\u001b[1;32m     10\u001b[0m         \u001b[0;32mif\u001b[0m \u001b[0mimg\u001b[0m \u001b[0;32mis\u001b[0m \u001b[0;32mnot\u001b[0m \u001b[0;32mNone\u001b[0m\u001b[0;34m:\u001b[0m\u001b[0;34m\u001b[0m\u001b[0;34m\u001b[0m\u001b[0m\n",
      "\u001b[0;31mFileNotFoundError\u001b[0m: [Errno 2] No such file or directory: 'seg_train\\\\buildings'"
     ]
    }
   ],
   "source": [
    "images = load_images_from_folder('seg_train')"
   ]
  },
  {
   "cell_type": "code",
   "execution_count": 26,
   "metadata": {},
   "outputs": [],
   "source": [
    "# File paths\n",
    "train_dir = 'data/seg_train'\n",
    "test_dir = 'data/seg_test'\n",
    "\n",
    "# Getting the sub classes of the images\n",
    "class_names = os.listdir(train_dir)\n",
    "\n",
    "# Creating labels for the sub classes\n",
    "class_names_label = {class_name:i for i, class_name in enumerate(class_names)}\n",
    "\n",
    "# Setting the directories for the subclasses\n",
    "train_bgs = 'data/seg_train/buildings'\n",
    "train_ft = 'data/seg_train/forest'\n",
    "train_glcr = 'data/seg_train/glacier'\n",
    "train_mt = 'data/seg_train/mountain'\n",
    "train_sea = 'data/seg_train/sea'\n",
    "train_st = 'data/seg_train/street'\n",
    "\n",
    "# Creating objects that stores all images for each of the subclasses\n",
    "bgs_train_img = [file for file in os.listdir(train_bgs) if file.endswith('.jpg')]\n",
    "ft_train_img = [file for file in os.listdir(train_ft) if file.endswith('.jpg')]\n",
    "glc_train_img = [file for file in os.listdir(train_glcr) if file.endswith('.jpg')]\n",
    "mt_train_img = [file for file in os.listdir(train_mt) if file.endswith('.jpg')]\n",
    "sea_train_img = [file for file in os.listdir(train_sea) if file.endswith('.jpg')]\n",
    "st_train_img = [file for file in os.listdir(train_st) if file.endswith('.jpg')]\n",
    "\n",
    "# Looping through each of the created images to create one larger object\n",
    "## that houses all the training images\n",
    "train_imgs = []\n",
    "for image in bgs_train_img:\n",
    "    train_imgs.append(image)\n",
    "for image in ft_train_img:\n",
    "    train_imgs.append(image)\n",
    "for image in glc_train_img:\n",
    "    train_imgs.append(image)\n",
    "for image in mt_train_img:\n",
    "    train_imgs.append(image)\n",
    "for image in sea_train_img:\n",
    "    train_imgs.append(image)\n",
    "for image in st_train_img:\n",
    "    train_imgs.append(image)"
   ]
  },
  {
   "cell_type": "code",
   "execution_count": 44,
   "metadata": {},
   "outputs": [],
   "source": [
    "def get_images(directory):\n",
    "    \"\"\" A function to extract images from the file directory\"\"\"\n",
    "    Images = []\n",
    "    Labels = []\n",
    "    \n",
    "    # 0 for Building , 1 for forest, 2 for glacier, 3 for mountain, 4 for Sea , 5 for Street\n",
    "    label = 0\n",
    "    \n",
    "    #Main Directory where each class label is present as folder name\n",
    "    if os.listdir(directory) != 'data/seg_train/.DS_Store':\n",
    "        for labels in os.listdir(directory):\n",
    "            # Folder contain Glacier Images get the '2' class label and so on...\n",
    "            if labels == 'glacier': \n",
    "                label = 2\n",
    "            elif labels == 'sea':\n",
    "                label = 4\n",
    "            elif labels == 'buildings':\n",
    "                label = 0\n",
    "            elif labels == 'forest':\n",
    "                label = 1\n",
    "            elif labels == 'street':\n",
    "                label = 5\n",
    "            elif labels == 'mountain':\n",
    "                label = 3\n",
    "            \n",
    "            # Extracting the file name of the image from Class Label folder\n",
    "            for image_file in os.listdir(directory+labels):\n",
    "                \n",
    "                # Reading the image (OpenCV) \n",
    "                image = cv2.imread(directory+labels+r'/'+image_file) \n",
    "                \n",
    "                # Resize the image, Some images are different sizes. (Resizing is very Important)\n",
    "                image = cv2.resize(image,(150,150))\n",
    "                \n",
    "                # Appending  to the list of images and labels created above\n",
    "                Images.append(image)\n",
    "                Labels.append(label)\n",
    "    \n",
    "    # Shuffle the dataset you just prepared\n",
    "    return shuffle(Images,Labels,random_state=42)"
   ]
  },
  {
   "cell_type": "code",
   "execution_count": 45,
   "metadata": {},
   "outputs": [
    {
     "ename": "NotADirectoryError",
     "evalue": "[Errno 20] Not a directory: 'data/seg_train/.DS_Store'",
     "output_type": "error",
     "traceback": [
      "\u001b[0;31m---------------------------------------------------------------------------\u001b[0m",
      "\u001b[0;31mNotADirectoryError\u001b[0m                        Traceback (most recent call last)",
      "\u001b[0;32m<ipython-input-45-ba21e063f337>\u001b[0m in \u001b[0;36m<module>\u001b[0;34m\u001b[0m\n\u001b[1;32m      1\u001b[0m \u001b[0;31m# get_images('data/seg_train/')\u001b[0m\u001b[0;34m\u001b[0m\u001b[0;34m\u001b[0m\u001b[0;34m\u001b[0m\u001b[0m\n\u001b[0;32m----> 2\u001b[0;31m \u001b[0mtrain_imgs\u001b[0m\u001b[0;34m,\u001b[0m \u001b[0mtrain_labels\u001b[0m \u001b[0;34m=\u001b[0m \u001b[0mget_images\u001b[0m\u001b[0;34m(\u001b[0m\u001b[0;34m'data/seg_train/'\u001b[0m\u001b[0;34m)\u001b[0m\u001b[0;34m\u001b[0m\u001b[0;34m\u001b[0m\u001b[0m\n\u001b[0m",
      "\u001b[0;32m<ipython-input-44-81a0ead45ec6>\u001b[0m in \u001b[0;36mget_images\u001b[0;34m(directory)\u001b[0m\n\u001b[1;32m     25\u001b[0m \u001b[0;34m\u001b[0m\u001b[0m\n\u001b[1;32m     26\u001b[0m             \u001b[0;31m# Extracting the file name of the image from Class Label folder\u001b[0m\u001b[0;34m\u001b[0m\u001b[0;34m\u001b[0m\u001b[0;34m\u001b[0m\u001b[0m\n\u001b[0;32m---> 27\u001b[0;31m             \u001b[0;32mfor\u001b[0m \u001b[0mimage_file\u001b[0m \u001b[0;32min\u001b[0m \u001b[0mos\u001b[0m\u001b[0;34m.\u001b[0m\u001b[0mlistdir\u001b[0m\u001b[0;34m(\u001b[0m\u001b[0mdirectory\u001b[0m\u001b[0;34m+\u001b[0m\u001b[0mlabels\u001b[0m\u001b[0;34m)\u001b[0m\u001b[0;34m:\u001b[0m\u001b[0;34m\u001b[0m\u001b[0;34m\u001b[0m\u001b[0m\n\u001b[0m\u001b[1;32m     28\u001b[0m \u001b[0;34m\u001b[0m\u001b[0m\n\u001b[1;32m     29\u001b[0m                 \u001b[0;31m# Reading the image (OpenCV)\u001b[0m\u001b[0;34m\u001b[0m\u001b[0;34m\u001b[0m\u001b[0;34m\u001b[0m\u001b[0m\n",
      "\u001b[0;31mNotADirectoryError\u001b[0m: [Errno 20] Not a directory: 'data/seg_train/.DS_Store'"
     ]
    }
   ],
   "source": [
    "# get_images('data/seg_train/')\n",
    "train_imgs, train_labels = get_images('data/seg_train/')"
   ]
  },
  {
   "cell_type": "code",
   "execution_count": 42,
   "metadata": {},
   "outputs": [
    {
     "data": {
      "text/plain": [
       "'/Users/user/Documents/trial/IMAGE CLASS/image-classsification-intel'"
      ]
     },
     "execution_count": 42,
     "metadata": {},
     "output_type": "execute_result"
    }
   ],
   "source": [
    "os.getcwd()"
   ]
  },
  {
   "cell_type": "code",
   "execution_count": 43,
   "metadata": {},
   "outputs": [
    {
     "data": {
      "text/plain": [
       "['.DS_Store', 'seg_test', 'seg_train', 'seg_pred']"
      ]
     },
     "execution_count": 43,
     "metadata": {},
     "output_type": "execute_result"
    }
   ],
   "source": [
    "os.listdir('data')"
   ]
  },
  {
   "cell_type": "code",
   "execution_count": null,
   "metadata": {},
   "outputs": [],
   "source": []
  }
 ],
 "metadata": {
  "kernelspec": {
   "display_name": "Python 3.8.5 ('learn-env')",
   "language": "python",
   "name": "python3"
  },
  "language_info": {
   "codemirror_mode": {
    "name": "ipython",
    "version": 3
   },
   "file_extension": ".py",
   "mimetype": "text/x-python",
   "name": "python",
   "nbconvert_exporter": "python",
   "pygments_lexer": "ipython3",
   "version": "3.8.5"
  },
  "orig_nbformat": 4,
  "vscode": {
   "interpreter": {
    "hash": "ef4e67001089e8b89cb61e29dfb937e636c8ebe2f8e75bf7c820f08036949297"
   }
  }
 },
 "nbformat": 4,
 "nbformat_minor": 2
}
